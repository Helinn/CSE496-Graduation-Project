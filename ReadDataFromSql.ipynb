{
 "cells": [
  {
   "cell_type": "code",
   "execution_count": 3,
   "metadata": {},
   "outputs": [],
   "source": [
    "import mysql.connector\n",
    "import Tweet as tweet\n",
    "from datetime import datetime\n",
    "def read_data_from_database():\n",
    "    mydb = mysql.connector.connect(\n",
    "        user = \"root\",\n",
    "        password = \"D12345\",\n",
    "        host = \"localhost\",\n",
    "        database = \"tweetermysql_2018-07-30\"\n",
    "    )\n",
    "\n",
    "    my_cursor = mydb.cursor()\n",
    "\n",
    "    my_cursor.execute(' select ID, MetaData, Date, Section from news_2017_01 where day(Date) = \"1\" ')\n",
    "\n",
    "    my_result = my_cursor.fetchall()\n",
    "    \n",
    "    data = list()\n",
    "    \n",
    "    for item in my_result:\n",
    "        u, m_data, date, section = item\n",
    "        t = tweet.Tweet(u,section,m_data,datetime.strptime(date,'%Y-%m-%d'))\n",
    "        data.append(t)\n",
    "    \n",
    "    return data"
   ]
  },
  {
   "cell_type": "code",
   "execution_count": 4,
   "metadata": {},
   "outputs": [
    {
     "data": {
      "text/plain": [
       "[343945 Gündem Terör saldırısında 39 kişi hayatını kaybetti, 4'ü ağır 65 kişi yaralandı.\n",
       " \n",
       "   01.01.2017,\n",
       " 343946 Gündem Ortaköy'de gerçekleştirilen silahlı saldırı sonrası Cumhurbaşkanı Erdoğan, telefonla bilgi aldı.  01.01.2017,\n",
       " 343947 Gündem RTÜK, Ortaköy'deki terör saldırısı sonrası geçici yayın kısıtlamasına gitti.\n",
       " \n",
       "   01.01.2017,\n",
       " 343949 Gündem Diyaneş İşleri Başkanı Görmez, Ortaköy'deki saldırının amacının yaşam biçimlerine göre toplumu bölmek ve karşı karşıya getirmek olduğunu belirterek, Bu...  01.01.2017,\n",
       " 343950 Gündem Ortaköy'deki saldırıya dünyadan tepki yağarken; ABD Başkanı Obama, gerekli destek ve yardımın yapılması hususunda ekibine talimat verdi  01.01.2017,\n",
       " 343951 Gündem Ortaköy'deki saldırı sonrası açıklama yapan Bakan Bozdağ, Hiçbir terör saldırısı birliğimizi bozamayacak, kardeşliğimizi yok edemeyecek...  01.01.2017,\n",
       " 343952 Gündem ABD, Türkiye'deki vatandaşlarının saldırının olduğu bölgeden uzak durmalarını istedi.\n",
       " \n",
       "   01.01.2017,\n",
       " 343953 Gündem Sağlık Bakanı Akdağ, Ortaköy'deki terör saldırısı sonrası, 65 kişinin hastanelerde tedavi gördüğünü, dört kişinin durumunun ağır olduğunu...  01.01.2017,\n",
       " 343954 Gündem Türk Hava Kuvvetlerine ait uçaklar dört bölgedeki DEAŞ hedeflerini vurdu; 34 terörist etkisiz hale getirildi, 17 bina imha edildi.  01.01.2017,\n",
       " 343955 Gündem Apple CEO'su Cook, sosyal medya hesabı üzerinden Türkiye'yle dayanışma içinde olduğunu ifade eden bir mesaj paylaştı.  01.01.2017,\n",
       " 343956 Gündem Bugüne kadar pilot illerde 260 bin kişinin başvuruda bulunduğu çipli kimlik kartları, yarından itibaren tüm illerde alınabilecek.  01.01.2017,\n",
       " 343957 Gündem İngiltere Büyükelçiliği, Ortaköy'deki saldırı sonrası vatandaşlarına dikkatli olma uyarısında bulundu.  01.01.2017,\n",
       " 343958 Gündem İstanbul'daki terör saldırısı sonrası hükümet kanadından yapılan açıklamalarda terör saldırısı kınandı ve mücadelenin süreceği bildirildi. Başbakan...  01.01.2017,\n",
       " 343962 Gündem Cumhurbaşkanı Erdoğan, saldırı sonrası yazılı bir açıklama yaptı...  01.01.2017,\n",
       " 343963 Gündem Başbakan Yıldırım başkanlığında terör saldırısı sonrası ile ilgili toplantı düzenlendi.\n",
       " \n",
       "   01.01.2017,\n",
       " 343964 Gündem Rusya Devlet Başkanı Putin, İstanbul'daki saldırı sonrası Bizim ortak görevimiz terör agresifine kararlı bir şekilde yanıt vermek mesajını...  01.01.2017,\n",
       " 343965 Gündem CHP Lideri Kılıçdaroğlu, İstanbul'daki terör saldırısıyla ilgili olarak, Terör örgütlerini, toplumsal dayanışmamızla bertaraf edeceğiz dedi ve atılan...  01.01.2017,\n",
       " 343966 Gündem HDP, terör saldırısı sonrası, Bu insanlık düşmanı saldırıyı en sert biçimde kınıyor ve lanetliyoruz açıklamasını yaptı.   01.01.2017,\n",
       " 343967 Gündem TBMM Başkanvekili Hamzaçebi, terör saldırısının tüm toplumu birleştirmesi gerektiğini belirterek, Bu yası hepimizin tutması gerekir, bu yası hepimiz...  01.01.2017,\n",
       " 343968 Gündem İş dünyası temsilcileri, yayımladıkları mesajlarla terörün insanlığın düşmanı olduğunu belirterek saldırıyı lanetledi; devletin verdiği mücadelenin...  01.01.2017,\n",
       " 343969 Gündem TSK, terör saldırısını şiddetle lanetleyerek, 'mücadele sürecek' mesajı verdi.  01.01.2017,\n",
       " 343970 Gündem Mehmet Koçarslan saldırıyla ilgili olarak, Tüm ülkemize yapılmış kalleş ve hain bir terör saldırısıdır. İçimiz kan ağlıyor, kurşunlar ciğerimize...  01.01.2017,\n",
       " 343971 Gündem Spor federasyonları ve kulüpler yayımladıkları açıklamalarla terör saldırılarını lanetledi.  01.01.2017,\n",
       " 343974 Gündem Beşiktaş'ta gerçekleştirilen silahlı terör saldırısında hayatını kaybedenlerin yakınlarının Adli Tıp Kurumu önündeki bekleyişi sürüyor. Polis kurum...  01.01.2017,\n",
       " 343975 Gündem Saldırının gerçekleştiği Muallim Naci Caddesi trafiğe açıldı.  01.01.2017,\n",
       " 343976 Gündem Polis, Beşiktaş'ta dün gerçekleştirilen saldırının faili olduğundan şüphenilen bir şahsı arıyor.  01.01.2017,\n",
       " 343977 Gündem MHP Lideri Bahçeli, terör saldırısı sonrası, MHP devlet ve milletiyle bir, beraber olacaktır. Yıkılmayacağız, yenilmeyeceğiz dedi.\n",
       " \n",
       "   01.01.2017,\n",
       " 343979 Gündem Başbakan Binali Yıldırım, İstanbul'daki terör saldırısıyla ilgili, 'Terör, bizi yıldıramaz, bizim kardeşliğimizi, birliğimizi, beraberliğimizi bozamaz....  01.01.2017,\n",
       " 343983 Gündem \n",
       " Akdeniz'de 4,6 büyüklüğünde deprem meydana geldi.  01.01.2017,\n",
       " 343987 Gündem Rusya Başbakanı Medvedev, Başbakan Yıldırım'ı telefonla arayarak, İstanbul’daki terör saldırısı dolayısıyla taziye dileklerini ve dayanışma mesajlarını...  01.01.2017,\n",
       " 344002 Gündem Ortaköy'de, bir gece kulübüne yönelik düzenlenen terör saldırısında hayatını kaybeden 39 kişiden 38'inin kimlikleri belirlendi.  01.01.2017,\n",
       " 344003 Gündem ABD'nin Ankara Büyükelçiliği, İstanbul'da düzenlenen terör saldırısına ilişkin ABD'nin önceden bilgi sahibi olduğu iddialarına, Amerikan hükümeti...  01.01.2017,\n",
       " 344004 Gündem İstanbul Ortaköy'deki terör saldırısında hayatını kaybeden 39 kişiden 11'inin cenazesi ailelerine teslim edildi.  01.01.2017,\n",
       " 344014 Gündem İstanbulerör örgütlerini, teröristleri ve terör eylemlerini övenlerin ve destekleyenlerin eylemleri, hukukumuza göre suçtur. dedi.  01.01.2017,\n",
       " 344017 Gündem Çınar ilçesinde Emniyet Amirliği binasına teröristlerce roketatarlı saldırı düzenlendi  01.01.2017,\n",
       " 344018 Gündem Dışişleri Bakanı Çavuşoğlu, İstanbul'daki terör saldırısına dair Taziye ve destek mesajı gönderen dostlarımıza teşekkür ediyoruz. Terörle ortak...  01.01.2017]"
      ]
     },
     "execution_count": 4,
     "metadata": {},
     "output_type": "execute_result"
    }
   ],
   "source": [
    "read_data_from_database()"
   ]
  },
  {
   "cell_type": "code",
   "execution_count": null,
   "metadata": {},
   "outputs": [],
   "source": []
  },
  {
   "cell_type": "code",
   "execution_count": null,
   "metadata": {},
   "outputs": [],
   "source": []
  }
 ],
 "metadata": {
  "kernelspec": {
   "display_name": "Python 3",
   "language": "python",
   "name": "python3"
  },
  "language_info": {
   "codemirror_mode": {
    "name": "ipython",
    "version": 3
   },
   "file_extension": ".py",
   "mimetype": "text/x-python",
   "name": "python",
   "nbconvert_exporter": "python",
   "pygments_lexer": "ipython3",
   "version": "3.7.0"
  }
 },
 "nbformat": 4,
 "nbformat_minor": 2
}
