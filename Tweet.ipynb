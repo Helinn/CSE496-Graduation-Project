{
 "cells": [
  {
   "cell_type": "code",
   "execution_count": 9,
   "metadata": {},
   "outputs": [],
   "source": [
    "class Tweet:\n",
    "    #num = 0\n",
    "    def __init__(self, user, text, date, *args):\n",
    "        self.user = user\n",
    "        self.text = text\n",
    "        self.date = date\n",
    "        self.data = args\n",
    "        self.num = Tweet.num\n",
    "        Tweet.num += 1\n",
    "    def __repr__(self):\n",
    "        return ' '.join([self.user,self.text,self.date.strftime(\"%d.%m.%Y\"),str(self.num)])\n"
   ]
  },
  {
   "cell_type": "code",
   "execution_count": 10,
   "metadata": {},
   "outputs": [],
   "source": [
    "from datetime import datetime\n",
    "MONTH_TAG=\"month\"\n",
    "YEAR_TAG=\"year\"\n",
    "DAY_TAG=\"day\"\n",
    "TWEET_TAG=\"tweet\"\n",
    "\n",
    "MONTH_NAMES = {1:\"JAN\",2:\"FEB\",3:\"MAR\",4:\"APR\",\n",
    "          5:\"MAY\",6:\"JUN\",7:\"JUL\",8:\"AUG\",\n",
    "         9:\"SEP\",10:\"OCT\",11:\"NOV\",12:\"DEC\"}\n",
    "\n",
    "def sampleTweets():\n",
    "    tweets = []\n",
    "    t1 = Tweet(\"Helin\",\"bugün hava çok güzel\",datetime.strptime(\"01.01.2019\",'%d.%m.%Y'))\n",
    "    t2 = Tweet(\"Burcu\",\"bugün hava güneşli\",datetime.strptime(\"02.02.2018\",'%d.%m.%Y'))\n",
    "    tweets.append(t1)\n",
    "    tweets.append(t2)\n",
    "    return tweets "
   ]
  },
  {
   "cell_type": "code",
   "execution_count": 11,
   "metadata": {},
   "outputs": [
    {
     "ename": "AttributeError",
     "evalue": "type object 'Tweet' has no attribute 'num'",
     "output_type": "error",
     "traceback": [
      "\u001b[1;31m---------------------------------------------------------------------------\u001b[0m",
      "\u001b[1;31mAttributeError\u001b[0m                            Traceback (most recent call last)",
      "\u001b[1;32m<ipython-input-11-7a21cc7bbb7d>\u001b[0m in \u001b[0;36m<module>\u001b[1;34m()\u001b[0m\n\u001b[1;32m----> 1\u001b[1;33m \u001b[0msampleTweets\u001b[0m\u001b[1;33m(\u001b[0m\u001b[1;33m)\u001b[0m\u001b[1;33m\u001b[0m\u001b[0m\n\u001b[0m",
      "\u001b[1;32m<ipython-input-10-04c3347fef6a>\u001b[0m in \u001b[0;36msampleTweets\u001b[1;34m()\u001b[0m\n\u001b[0;32m     11\u001b[0m \u001b[1;32mdef\u001b[0m \u001b[0msampleTweets\u001b[0m\u001b[1;33m(\u001b[0m\u001b[1;33m)\u001b[0m\u001b[1;33m:\u001b[0m\u001b[1;33m\u001b[0m\u001b[0m\n\u001b[0;32m     12\u001b[0m     \u001b[0mtweets\u001b[0m \u001b[1;33m=\u001b[0m \u001b[1;33m[\u001b[0m\u001b[1;33m]\u001b[0m\u001b[1;33m\u001b[0m\u001b[0m\n\u001b[1;32m---> 13\u001b[1;33m     \u001b[0mt1\u001b[0m \u001b[1;33m=\u001b[0m \u001b[0mTweet\u001b[0m\u001b[1;33m(\u001b[0m\u001b[1;34m\"Helin\"\u001b[0m\u001b[1;33m,\u001b[0m\u001b[1;34m\"bugün hava çok güzel\"\u001b[0m\u001b[1;33m,\u001b[0m\u001b[0mdatetime\u001b[0m\u001b[1;33m.\u001b[0m\u001b[0mstrptime\u001b[0m\u001b[1;33m(\u001b[0m\u001b[1;34m\"01.01.2019\"\u001b[0m\u001b[1;33m,\u001b[0m\u001b[1;34m'%d.%m.%Y'\u001b[0m\u001b[1;33m)\u001b[0m\u001b[1;33m)\u001b[0m\u001b[1;33m\u001b[0m\u001b[0m\n\u001b[0m\u001b[0;32m     14\u001b[0m     \u001b[0mt2\u001b[0m \u001b[1;33m=\u001b[0m \u001b[0mTweet\u001b[0m\u001b[1;33m(\u001b[0m\u001b[1;34m\"Burcu\"\u001b[0m\u001b[1;33m,\u001b[0m\u001b[1;34m\"bugün hava güneşli\"\u001b[0m\u001b[1;33m,\u001b[0m\u001b[0mdatetime\u001b[0m\u001b[1;33m.\u001b[0m\u001b[0mstrptime\u001b[0m\u001b[1;33m(\u001b[0m\u001b[1;34m\"02.02.2018\"\u001b[0m\u001b[1;33m,\u001b[0m\u001b[1;34m'%d.%m.%Y'\u001b[0m\u001b[1;33m)\u001b[0m\u001b[1;33m)\u001b[0m\u001b[1;33m\u001b[0m\u001b[0m\n\u001b[0;32m     15\u001b[0m     \u001b[0mtweets\u001b[0m\u001b[1;33m.\u001b[0m\u001b[0mappend\u001b[0m\u001b[1;33m(\u001b[0m\u001b[0mt1\u001b[0m\u001b[1;33m)\u001b[0m\u001b[1;33m\u001b[0m\u001b[0m\n",
      "\u001b[1;32m<ipython-input-9-c7c71f8e4694>\u001b[0m in \u001b[0;36m__init__\u001b[1;34m(self, user, text, date, *args)\u001b[0m\n\u001b[0;32m      6\u001b[0m         \u001b[0mself\u001b[0m\u001b[1;33m.\u001b[0m\u001b[0mdate\u001b[0m \u001b[1;33m=\u001b[0m \u001b[0mdate\u001b[0m\u001b[1;33m\u001b[0m\u001b[0m\n\u001b[0;32m      7\u001b[0m         \u001b[0mself\u001b[0m\u001b[1;33m.\u001b[0m\u001b[0mdata\u001b[0m \u001b[1;33m=\u001b[0m \u001b[0margs\u001b[0m\u001b[1;33m\u001b[0m\u001b[0m\n\u001b[1;32m----> 8\u001b[1;33m         \u001b[0mself\u001b[0m\u001b[1;33m.\u001b[0m\u001b[0mnum\u001b[0m \u001b[1;33m=\u001b[0m \u001b[0mTweet\u001b[0m\u001b[1;33m.\u001b[0m\u001b[0mnum\u001b[0m\u001b[1;33m\u001b[0m\u001b[0m\n\u001b[0m\u001b[0;32m      9\u001b[0m         \u001b[0mTweet\u001b[0m\u001b[1;33m.\u001b[0m\u001b[0mnum\u001b[0m \u001b[1;33m+=\u001b[0m \u001b[1;36m1\u001b[0m\u001b[1;33m\u001b[0m\u001b[0m\n\u001b[0;32m     10\u001b[0m     \u001b[1;32mdef\u001b[0m \u001b[0m__repr__\u001b[0m\u001b[1;33m(\u001b[0m\u001b[0mself\u001b[0m\u001b[1;33m)\u001b[0m\u001b[1;33m:\u001b[0m\u001b[1;33m\u001b[0m\u001b[0m\n",
      "\u001b[1;31mAttributeError\u001b[0m: type object 'Tweet' has no attribute 'num'"
     ]
    }
   ],
   "source": [
    "sampleTweets()"
   ]
  },
  {
   "cell_type": "code",
   "execution_count": null,
   "metadata": {},
   "outputs": [],
   "source": []
  }
 ],
 "metadata": {
  "kernelspec": {
   "display_name": "Python 3",
   "language": "python",
   "name": "python3"
  },
  "language_info": {
   "codemirror_mode": {
    "name": "ipython",
    "version": 3
   },
   "file_extension": ".py",
   "mimetype": "text/x-python",
   "name": "python",
   "nbconvert_exporter": "python",
   "pygments_lexer": "ipython3",
   "version": "3.7.0"
  }
 },
 "nbformat": 4,
 "nbformat_minor": 2
}
