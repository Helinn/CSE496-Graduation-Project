{
 "cells": [
  {
   "cell_type": "code",
   "execution_count": 1,
   "metadata": {},
   "outputs": [],
   "source": [
    "class Tweet:\n",
    "    num = 0\n",
    "    def __init__(self, user, text, date, *args):\n",
    "        self.user = user\n",
    "        self.text = text\n",
    "        self.date = date\n",
    "        self.data = args\n",
    "        self.num = Tweet.num\n",
    "        Tweet.num += 1\n",
    "    def __repr__(self):\n",
    "        return ' '.join([self.user,self.text,self.date.strftime(\"%d.%m.%Y\"),str(self.num)])"
   ]
  },
  {
   "cell_type": "code",
   "execution_count": null,
   "metadata": {},
   "outputs": [],
   "source": []
  }
 ],
 "metadata": {
  "kernelspec": {
   "display_name": "Python 3",
   "language": "python",
   "name": "python3"
  },
  "language_info": {
   "codemirror_mode": {
    "name": "ipython",
    "version": 3
   },
   "file_extension": ".py",
   "mimetype": "text/x-python",
   "name": "python",
   "nbconvert_exporter": "python",
   "pygments_lexer": "ipython3",
   "version": "3.7.0"
  }
 },
 "nbformat": 4,
 "nbformat_minor": 2
}
